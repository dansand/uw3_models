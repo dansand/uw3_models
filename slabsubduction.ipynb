{
 "cells": [
  {
   "cell_type": "markdown",
   "id": "employed-texture",
   "metadata": {},
   "source": [
    "# Slab subduction"
   ]
  },
  {
   "cell_type": "code",
   "execution_count": 145,
   "id": "continuing-warning",
   "metadata": {},
   "outputs": [],
   "source": [
    "# %%\n",
    "import numpy as np\n",
    "import os\n",
    "import math\n",
    "import underworld3\n",
    "\n",
    "import plot\n",
    "\n",
    "\n",
    "from underworld3 import petsc_gen_xdmf"
   ]
  },
  {
   "cell_type": "code",
   "execution_count": 146,
   "id": "progressive-milwaukee",
   "metadata": {},
   "outputs": [],
   "source": [
    "outputPath = 'output/'\n",
    "\n",
    "# Make output directory if necessary.\n",
    "from mpi4py import MPI\n",
    "if MPI.COMM_WORLD.rank==0:\n",
    "    if not os.path.exists(outputPath):\n",
    "        os.makedirs(outputPath)"
   ]
  },
  {
   "cell_type": "code",
   "execution_count": 147,
   "id": "hearing-boating",
   "metadata": {},
   "outputs": [],
   "source": [
    "ppcell = 5"
   ]
  },
  {
   "cell_type": "code",
   "execution_count": 148,
   "id": "better-powder",
   "metadata": {},
   "outputs": [],
   "source": [
    "#Basic direct solver parameters from Firedrake docs, for ref\n",
    "\n",
    "#mumps_solver_parameters = {\n",
    "#    \"mat_type\": \"aij\",\n",
    "#    \"snes_type\": \"ksponly\",\n",
    "#    \"ksp_type\": \"preonly\",\n",
    "#    \"pc_type\": \"lu\",\n",
    "#    \"pc_factor_mat_solver_type\": \"mumps\",\n",
    "#}"
   ]
  },
  {
   "cell_type": "code",
   "execution_count": 149,
   "id": "capital-saint",
   "metadata": {},
   "outputs": [],
   "source": [
    "from petsc4py import PETSc\n",
    "import underworld3 as uw\n",
    "from underworld3.systems import Stokes\n",
    "\n",
    "options = PETSc.Options()\n",
    "# options[\"help\"] = None\n",
    "# options[\"pc_type\"]  = \"svd\"\n",
    "#options[\"ksp_rtol\"] =  1.0e-6\n",
    "#options[\"ksp_atol\"] =  1.0e-6\n",
    "#options[\"ksp_monitor\"] = None\n",
    "# options[\"snes_type\"]  = \"fas\"\n",
    "#options[\"snes_type\"]=\"ksponly\"\n",
    "options[\"snes_converged_reason\"] = None\n",
    "options[\"snes_monitor_short\"] = None\n",
    "# options[\"snes_view\"]=None\n",
    "# options[\"snes_test_jacobian\"] = None\n",
    "# options[\"snes_rtol\"] = 1.0e-2  # set this low to force single SNES it. \n",
    "options[\"snes_max_it\"] = 3\n",
    "\n",
    "options[\"mat_type\"]=\"aij\"\n",
    "\n",
    "options[\"ksp_type\"]=\"preonly\"\n",
    "options[\"pc_type\"] = \"lu\"\n",
    "options[\"pc_factor_mat_solver_type\"] = \"mumps\"\n",
    "\n",
    "sys = PETSc.Sys()\n",
    "sys.pushErrorHandler(\"traceback\")\n"
   ]
  },
  {
   "cell_type": "code",
   "execution_count": 150,
   "id": "referenced-internship",
   "metadata": {},
   "outputs": [],
   "source": [
    "n_els = 32\n",
    "dim =2\n",
    "boxLength = 4.0\n",
    "boxHeight = 1.0"
   ]
  },
  {
   "cell_type": "markdown",
   "id": "about-drove",
   "metadata": {},
   "source": [
    "## Mesh stuff"
   ]
  },
  {
   "cell_type": "code",
   "execution_count": 151,
   "id": "executed-writer",
   "metadata": {},
   "outputs": [],
   "source": [
    "mesh = uw.mesh.Box(elementRes=(    4*n_els,n_els), \n",
    "                    minCoords =(       0.,)*dim, \n",
    "                    maxCoords =(boxLength,boxHeight),\n",
    "                    simplex=False )\n",
    "u_degree = 1\n",
    "stokes = Stokes(mesh, u_degree=u_degree )"
   ]
  },
  {
   "cell_type": "markdown",
   "id": "historical-atlas",
   "metadata": {},
   "source": [
    "## Swarm"
   ]
  },
  {
   "cell_type": "code",
   "execution_count": 152,
   "id": "magnetic-colony",
   "metadata": {},
   "outputs": [
    {
     "data": {
      "text/plain": [
       "<underworld3.swarm.Swarm at 0x7f38da05d2e0>"
      ]
     },
     "execution_count": 152,
     "metadata": {},
     "output_type": "execute_result"
    }
   ],
   "source": [
    "# Create swarm\n",
    "swarm  = uw.swarm.Swarm(mesh)\n",
    "# Add variable for material\n",
    "materialVariable      = swarm.add_variable(name=\"materialVariable\",      num_components=1, dtype=PETSc.IntType)\n",
    "dummyVariable      = swarm.add_variable(name=\"dummyVariable\",      num_components=1, dtype=PETSc.IntType)\n",
    "\n",
    "# Note that `ppcell` specifies particles per cell per dim.\n",
    "swarm.populate(ppcell=ppcell)"
   ]
  },
  {
   "cell_type": "code",
   "execution_count": 153,
   "id": "utility-medium",
   "metadata": {},
   "outputs": [],
   "source": [
    "#%%\n",
    "# Add some randomness to the particle distribution\n",
    "import numpy as np\n",
    "np.random.seed(0)\n",
    "\n",
    "with swarm.access(swarm.particle_coordinates):\n",
    "    factor = 0.5*boxLength/n_els/ppcell\n",
    "    swarm.particle_coordinates.data[:] += factor*np.random.rand(*swarm.particle_coordinates.data.shape)"
   ]
  },
  {
   "cell_type": "markdown",
   "id": "tender-forward",
   "metadata": {},
   "source": [
    "## setup the material distribution"
   ]
  },
  {
   "cell_type": "code",
   "execution_count": 154,
   "id": "victorian-driving",
   "metadata": {},
   "outputs": [],
   "source": [
    "import matplotlib.path as mpltPath"
   ]
  },
  {
   "cell_type": "code",
   "execution_count": 155,
   "id": "chronic-motivation",
   "metadata": {},
   "outputs": [],
   "source": [
    "\n",
    "\n",
    "# initialise the 'materialVariable' data to represent two different materials. \n",
    "upperMantleIndex = 0\n",
    "lowerMantleIndex = 1\n",
    "upperSlabIndex   = 2\n",
    "lowerSlabIndex   = 3\n",
    "coreSlabIndex    = 4\n",
    "\n",
    "# Initial material layout has a flat lying slab with at 15\\degree perturbation\n",
    "lowerMantleY   = 0.4\n",
    "slabLowerShape = np.array([ (1.2,0.925 ), (3.25,0.925 ), (3.20,0.900), (1.2,0.900), (1.02,0.825), (1.02,0.850) ])\n",
    "slabCoreShape  = np.array([ (1.2,0.975 ), (3.35,0.975 ), (3.25,0.925), (1.2,0.925), (1.02,0.850), (1.02,0.900) ])\n",
    "slabUpperShape = np.array([ (1.2,1.000 ), (3.40,1.000 ), (3.35,0.975), (1.2,0.975), (1.02,0.900), (1.02,0.925) ])\n",
    "\n",
    "#slabLower = fn.shape.Polygon( slabLowerShape )"
   ]
  },
  {
   "cell_type": "code",
   "execution_count": 156,
   "id": "inappropriate-coach",
   "metadata": {},
   "outputs": [],
   "source": [
    "slabLower  =mpltPath.Path(slabLowerShape)\n",
    "slabCore  =mpltPath.Path(slabCoreShape)\n",
    "slabUpper  =mpltPath.Path(slabUpperShape)"
   ]
  },
  {
   "cell_type": "code",
   "execution_count": 157,
   "id": "vocal-analyst",
   "metadata": {},
   "outputs": [],
   "source": [
    "with swarm.access(swarm.particle_coordinates, materialVariable):\n",
    "    \n",
    "    #if swarm.particle_coordinates.data[:][1] < lowerMantleY:\n",
    "    materialVariable.data[:] = upperMantleIndex\n",
    "    materialVariable.data[swarm.particle_coordinates.data[:,1] < lowerMantleY]     = lowerMantleIndex\n",
    "    materialVariable.data[slabLower.contains_points(swarm.particle_coordinates.data[:])] = lowerSlabIndex\n",
    "    materialVariable.data[slabCore.contains_points(swarm.particle_coordinates.data[:])] = coreSlabIndex\n",
    "    materialVariable.data[slabUpper.contains_points(swarm.particle_coordinates.data[:])] = upperSlabIndex\n",
    "    "
   ]
  },
  {
   "cell_type": "markdown",
   "id": "polished-sullivan",
   "metadata": {},
   "source": [
    "## Rheology"
   ]
  },
  {
   "cell_type": "code",
   "execution_count": 158,
   "id": "collaborative-familiar",
   "metadata": {},
   "outputs": [],
   "source": [
    "from sympy import Piecewise, ceiling, Abs, Min, sqrt, eye"
   ]
  },
  {
   "cell_type": "code",
   "execution_count": 159,
   "id": "tutorial-being",
   "metadata": {},
   "outputs": [],
   "source": [
    "upperMantleViscosity =    1.0\n",
    "lowerMantleViscosity =  50.0\n",
    "\n",
    "slabViscosity        =  100.0\n",
    "coreViscosity        =  250.0\n",
    "\n",
    "\n",
    "sr = stokes.strainrate\n",
    "# not sure if the following is needed as div_u should be zero\n",
    "sr -= (stokes.div_u/mesh.dim)*eye(mesh.dim)\n",
    "# second invariant of strain rate\n",
    "inv2 = sr[0,0]**2 + sr[0,1]**2 + sr[1,0]**2 + sr[1,1]**2\n",
    "inv2 = 1/2.*inv2\n",
    "strainRate_2ndInvariant = sqrt(inv2)\n",
    "\n",
    "\n",
    "cohesion = 0.06\n",
    "vonMises = 0.5 * cohesion / (strainRate_2ndInvariant+1.0e-18)\n",
    "\n",
    "\n",
    "# The upper slab viscosity is the minimum of the 'slabViscosity' or the 'vonMises' \n",
    "slabYieldvisc =  Min(vonMises, slabViscosity)\n",
    "\n"
   ]
  },
  {
   "cell_type": "code",
   "execution_count": 160,
   "id": "standard-contamination",
   "metadata": {},
   "outputs": [],
   "source": [
    "#start with solve on a linear viscosity\n",
    "stokes.viscosity = Piecewise( (upperMantleViscosity, Abs(materialVariable.fn - upperMantleIndex) < 0.5),\n",
    "                 (lowerMantleViscosity, Abs(materialVariable.fn -  lowerMantleIndex) < 0.5),\n",
    "                 (slabViscosity, Abs(materialVariable.fn - upperSlabIndex) < 0.5),\n",
    "                 (slabViscosity , Abs(materialVariable.fn - lowerSlabIndex) < 0.5),\n",
    "                 (coreViscosity, Abs(materialVariable.fn - coreSlabIndex) < 0.5), \n",
    "                            ( lowerMantleViscosity,                                True ))\n",
    "\n",
    "\n",
    "\n"
   ]
  },
  {
   "cell_type": "code",
   "execution_count": 161,
   "id": "lasting-canadian",
   "metadata": {},
   "outputs": [],
   "source": [
    "\n",
    "\n",
    "mantleDensity = 0.0\n",
    "slabDensity   = 1.0 \n",
    "\n",
    "density = Piecewise( (mantleDensity, Abs(materialVariable.fn - upperMantleIndex) < 0.5),\n",
    "                 (mantleDensity, Abs(materialVariable.fn -  lowerMantleIndex) < 0.5),\n",
    "                 (slabDensity, Abs(materialVariable.fn - upperSlabIndex) < 0.5),\n",
    "                 (slabDensity , Abs(materialVariable.fn - lowerSlabIndex) < 0.5),\n",
    "                 (slabDensity, Abs(materialVariable.fn - coreSlabIndex) < 0.5),\n",
    "                    ( mantleDensity,                                True ))\n",
    "\n",
    "\n",
    "\n",
    "stokes.bodyforce = -density*mesh.N.j\n",
    "\n"
   ]
  },
  {
   "cell_type": "markdown",
   "id": "interested-contemporary",
   "metadata": {},
   "source": [
    "## boundary conditions"
   ]
  },
  {
   "cell_type": "code",
   "execution_count": 162,
   "id": "corporate-prediction",
   "metadata": {},
   "outputs": [],
   "source": [
    "#free slip\n",
    "bnds = mesh.boundary\n",
    "stokes.add_dirichlet_bc( (0.,0.), [bnds.TOP,  bnds.BOTTOM], 1)  # top/bottom: function, boundaries, components \n",
    "stokes.add_dirichlet_bc( (0.,0.), [bnds.LEFT, bnds.RIGHT ], 0  )  # left/right: function, boundaries, components\n"
   ]
  },
  {
   "cell_type": "markdown",
   "id": "stylish-batch",
   "metadata": {},
   "source": [
    "## Initial Solve"
   ]
  },
  {
   "cell_type": "code",
   "execution_count": 163,
   "id": "mobile-memphis",
   "metadata": {},
   "outputs": [],
   "source": [
    "stokes.solve(zero_init_guess=False)"
   ]
  },
  {
   "cell_type": "code",
   "execution_count": null,
   "id": "interracial-oxide",
   "metadata": {},
   "outputs": [],
   "source": []
  },
  {
   "cell_type": "code",
   "execution_count": 164,
   "id": "second-insurance",
   "metadata": {},
   "outputs": [],
   "source": [
    "stokes.viscosity = Piecewise( (upperMantleViscosity, Abs(materialVariable.fn - upperMantleIndex) < 0.5),\n",
    "                 (lowerMantleViscosity, Abs(materialVariable.fn -  lowerMantleIndex) < 0.5),\n",
    "                 (slabYieldvisc, Abs(materialVariable.fn - upperSlabIndex) < 0.5),\n",
    "                 (slabYieldvisc , Abs(materialVariable.fn - lowerSlabIndex) < 0.5),\n",
    "                 (coreViscosity, Abs(materialVariable.fn - coreSlabIndex) < 0.5), \n",
    "                            ( lowerMantleViscosity,                                True ))\n"
   ]
  },
  {
   "cell_type": "markdown",
   "id": "solar-wrapping",
   "metadata": {},
   "source": [
    "## plot "
   ]
  },
  {
   "cell_type": "code",
   "execution_count": 165,
   "id": "bulgarian-afternoon",
   "metadata": {},
   "outputs": [],
   "source": [
    "#figs = plot.Plot(rulers=True)\n",
    "#with swarm.access(),mesh.access():\n",
    "#        figs.swarm_points(swarm, materialVariable.data, pointsize=5, colourmap=\"coolwarm\", colourbar=False)\n",
    "#        figs.vector_arrows(mesh, stokes.u.data)\n",
    "#        \n",
    "#outputFilename = os.path.join(outputPath,\"slab.png\")\n",
    "#figs.image(outputFilename)"
   ]
  },
  {
   "cell_type": "markdown",
   "id": "involved-jamaica",
   "metadata": {},
   "source": [
    "## Main loop"
   ]
  },
  {
   "cell_type": "code",
   "execution_count": 166,
   "id": "major-collector",
   "metadata": {},
   "outputs": [
    {
     "ename": "AttributeError",
     "evalue": "'NoneType' object has no attribute 'mesh'",
     "output_type": "error",
     "traceback": [
      "\u001b[0;31m---------------------------------------------------------------------------\u001b[0m",
      "\u001b[0;31mAttributeError\u001b[0m                            Traceback (most recent call last)",
      "\u001b[0;32m<ipython-input-166-c06b8ae04b7c>\u001b[0m in \u001b[0;36m<module>\u001b[0;34m\u001b[0m\n\u001b[1;32m     14\u001b[0m     \u001b[0mdt\u001b[0m \u001b[0;34m=\u001b[0m \u001b[0mstokes\u001b[0m\u001b[0;34m.\u001b[0m\u001b[0mdt\u001b[0m\u001b[0;34m(\u001b[0m\u001b[0;34m)\u001b[0m\u001b[0;34m\u001b[0m\u001b[0;34m\u001b[0m\u001b[0m\n\u001b[1;32m     15\u001b[0m     \u001b[0;32mwith\u001b[0m \u001b[0mswarm\u001b[0m\u001b[0;34m.\u001b[0m\u001b[0maccess\u001b[0m\u001b[0;34m(\u001b[0m\u001b[0;34m)\u001b[0m\u001b[0;34m:\u001b[0m\u001b[0;34m\u001b[0m\u001b[0;34m\u001b[0m\u001b[0m\n\u001b[0;32m---> 16\u001b[0;31m         \u001b[0mvel_on_particles\u001b[0m \u001b[0;34m=\u001b[0m \u001b[0muw\u001b[0m\u001b[0;34m.\u001b[0m\u001b[0mfunction\u001b[0m\u001b[0;34m.\u001b[0m\u001b[0mevaluate\u001b[0m\u001b[0;34m(\u001b[0m\u001b[0mstokes\u001b[0m\u001b[0;34m.\u001b[0m\u001b[0mu\u001b[0m\u001b[0;34m.\u001b[0m\u001b[0mfn\u001b[0m\u001b[0;34m,\u001b[0m\u001b[0mswarm\u001b[0m\u001b[0;34m.\u001b[0m\u001b[0mparticle_coordinates\u001b[0m\u001b[0;34m.\u001b[0m\u001b[0mdata\u001b[0m\u001b[0;34m)\u001b[0m\u001b[0;34m\u001b[0m\u001b[0;34m\u001b[0m\u001b[0m\n\u001b[0m\u001b[1;32m     17\u001b[0m \u001b[0;34m\u001b[0m\u001b[0m\n\u001b[1;32m     18\u001b[0m     \u001b[0;32mwith\u001b[0m \u001b[0mswarm\u001b[0m\u001b[0;34m.\u001b[0m\u001b[0maccess\u001b[0m\u001b[0;34m(\u001b[0m\u001b[0mswarm\u001b[0m\u001b[0;34m.\u001b[0m\u001b[0mparticle_coordinates\u001b[0m\u001b[0;34m)\u001b[0m\u001b[0;34m:\u001b[0m\u001b[0;34m\u001b[0m\u001b[0;34m\u001b[0m\u001b[0m\n",
      "\u001b[0;32m/tmp/uw3/underworld3/function/_function.pyx\u001b[0m in \u001b[0;36munderworld3.function._function.evaluate\u001b[0;34m()\u001b[0m\n",
      "\u001b[0;32m/tmp/uw3/underworld3/function/_function.pyx\u001b[0m in \u001b[0;36munderworld3.function._function.evaluate.get_var_fns\u001b[0;34m()\u001b[0m\n",
      "\u001b[0;32m/tmp/uw3/underworld3/function/_function.pyx\u001b[0m in \u001b[0;36munderworld3.function._function.evaluate.get_var_fns\u001b[0;34m()\u001b[0m\n",
      "\u001b[0;32m/tmp/uw3/underworld3/function/_function.pyx\u001b[0m in \u001b[0;36munderworld3.function._function.evaluate.get_var_fns\u001b[0;34m()\u001b[0m\n",
      "\u001b[0;31mAttributeError\u001b[0m: 'NoneType' object has no attribute 'mesh'"
     ]
    }
   ],
   "source": [
    "step = 0\n",
    "max_steps = 50\n",
    "\n",
    "\n",
    "#timing setup\n",
    "#viewer.getTimestep()\n",
    "#viewer.setTimestep(1)\n",
    "\n",
    "\n",
    "while step<max_steps:\n",
    "    stokes.solve(zero_init_guess=False)\n",
    "    \n",
    "    #advect the particles\n",
    "    dt = stokes.dt()\n",
    "    with swarm.access():\n",
    "        vel_on_particles = uw.function.evaluate(stokes.u.fn,swarm.particle_coordinates.data)\n",
    "\n",
    "    with swarm.access(swarm.particle_coordinates):\n",
    "        swarm.particle_coordinates.data[:]+=dt*vel_on_particles\n",
    "        \n",
    "    #viz for serial case  \n",
    "    #with swarm.access(),mesh.access():\n",
    "    #    figs = plot.Plot(rulers=True)\n",
    "    #    figs.swarm_points(swarm, materialVariable.data, pointsize=4, colourmap=\"coolwarm\", colourbar=False)\n",
    "    #    figs.vector_arrows(mesh, stokes.u.data)\n",
    "    #    # fig.nodes(mesh,matMeshVar.data,colourmap=\"blue green\", pointsize=6, pointtype=4)\n",
    "    #    outputFilename = os.path.join(outputPath,f\"slab_yield_{str(step).zfill(4)}.png\")\n",
    "    #    figs.image(outputFilename)\n",
    "    \n",
    "   \n",
    "    \n",
    "    #viz for parallel case - write the hdf5s/xdmfs - veolocity and pressure\n",
    "    if step%2==0:\n",
    "    \n",
    "        fname = f\"./{outputPath}{'step_'}{step:02d}.h5\"\n",
    "        xfname = f\"./{outputPath}{'step_'}{step:02d}.xdmf\"\n",
    "        viewer = PETSc.ViewerHDF5().createHDF5(fname, mode=PETSc.Viewer.Mode.WRITE,  comm=PETSc.COMM_WORLD)\n",
    "        viewer(mesh.dm)\n",
    "        viewer(stokes.u._gvec) #add velocity\n",
    "        viewer(stokes.p._gvec) #add pressure\n",
    "        viewer.destroy() \n",
    "        petsc_gen_xdmf.generateXdmf(fname, xfname)\n",
    "    step +=1\n",
    "\n",
    "\n",
    "\n",
    "    #viewer.setTimestep(step)\n",
    "        \n"
   ]
  },
  {
   "cell_type": "markdown",
   "id": "familiar-idaho",
   "metadata": {},
   "source": [
    "## issues\n",
    "\n",
    "At many resolutions, I'm getting the following error message, when I try to evaluate the velocity on the particles. \n",
    "\n",
    "```\n",
    "---------------------------------------------------------------------------\n",
    "AttributeError                            Traceback (most recent call last)\n",
    "<ipython-input-166-c06b8ae04b7c> in <module>\n",
    "     14     dt = stokes.dt()\n",
    "     15     with swarm.access():\n",
    "---> 16         vel_on_particles = uw.function.evaluate(stokes.u.fn,swarm.particle_coordinates.data)\n",
    "     17 \n",
    "     18     with swarm.access(swarm.particle_coordinates):\n",
    "\n",
    "/tmp/uw3/underworld3/function/_function.pyx in underworld3.function._function.evaluate()\n",
    "\n",
    "/tmp/uw3/underworld3/function/_function.pyx in underworld3.function._function.evaluate.get_var_fns()\n",
    "\n",
    "/tmp/uw3/underworld3/function/_function.pyx in underworld3.function._function.evaluate.get_var_fns()\n",
    "\n",
    "/tmp/uw3/underworld3/function/_function.pyx in underworld3.function._function.evaluate.get_var_fns()\n",
    "\n",
    "AttributeError: 'NoneType' object has no attribute 'mesh'\n",
    "\n",
    "\n",
    "```"
   ]
  },
  {
   "cell_type": "code",
   "execution_count": null,
   "id": "soviet-wages",
   "metadata": {},
   "outputs": [],
   "source": []
  }
 ],
 "metadata": {
  "kernelspec": {
   "display_name": "Python 3",
   "language": "python",
   "name": "python3"
  },
  "language_info": {
   "codemirror_mode": {
    "name": "ipython",
    "version": 3
   },
   "file_extension": ".py",
   "mimetype": "text/x-python",
   "name": "python",
   "nbconvert_exporter": "python",
   "pygments_lexer": "ipython3",
   "version": "3.8.5"
  }
 },
 "nbformat": 4,
 "nbformat_minor": 5
}
